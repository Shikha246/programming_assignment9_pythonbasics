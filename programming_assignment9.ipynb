{
 "cells": [
  {
   "cell_type": "markdown",
   "id": "1f98e836",
   "metadata": {},
   "source": [
    "## 1. Write a Python program to check if the given number is a Disarium Number?"
   ]
  },
  {
   "cell_type": "code",
   "execution_count": null,
   "id": "878e54d5",
   "metadata": {},
   "outputs": [],
   "source": [
    "#if sum of its digits powered with their respective positions is equal to the number itself."
   ]
  },
  {
   "cell_type": "code",
   "execution_count": 5,
   "id": "036ec806",
   "metadata": {},
   "outputs": [
    {
     "name": "stdout",
     "output_type": "stream",
     "text": [
      "\n",
      "Is 25 is Disarium number? False\n"
     ]
    }
   ],
   "source": [
    "def is_disarium(num):\n",
    "    temp = 0\n",
    "    for i in range(len(str(num))):\n",
    "        temp += int(str(num)[i]) ** (i + 1)\n",
    "    return temp == num\n",
    "\n",
    "num = 25\n",
    "print(\"\\nIs\",num,\"is Disarium number?\",is_disarium(num))\n"
   ]
  },
  {
   "cell_type": "code",
   "execution_count": 1,
   "id": "6dae49ee",
   "metadata": {},
   "outputs": [
    {
     "name": "stdout",
     "output_type": "stream",
     "text": [
      "Enter a number:89\n",
      "The number 89 is a disarium number\n"
     ]
    }
   ],
   "source": [
    "num= int(input(\"Enter a number:\"))\n",
    "temp=0\n",
    "for i in range(len(str(num))):\n",
    "    temp+= int(str(num)[i])** (i+1)\n",
    "\n",
    "if temp==num:\n",
    "    print(f\"The number {num} is a disarium number\")\n",
    "else:\n",
    "    print(f\"The number {num} is not a disarium number\")"
   ]
  },
  {
   "cell_type": "code",
   "execution_count": 7,
   "id": "e2f66793",
   "metadata": {},
   "outputs": [
    {
     "name": "stdout",
     "output_type": "stream",
     "text": [
      "Enter a number:89\n",
      "The number 89 is disarium number\n"
     ]
    }
   ],
   "source": [
    "n= int(input(\"Enter a number:\"))\n",
    "temp=n\n",
    "x=n\n",
    "sum=0\n",
    "#finding position\n",
    "count=0\n",
    "while temp>0:\n",
    "    temp=temp//10\n",
    "    count=count+1\n",
    "    \n",
    "#print(f\"The count of the number {n} is {count}\")\n",
    "while x>0:\n",
    "    rem=x%10 #individual digit\n",
    "    #print(f\"Individual digit:{rem}\")\n",
    "    sum =sum+ (rem**count)\n",
    "    x=x//10\n",
    "    #print(f\"reduced value:{x}\")\n",
    "    count=count-1\n",
    "if sum==n:\n",
    "    print(f\"The number {n} is disarium number\")\n",
    "else:\n",
    "    print(f\"The number {n} is not a disarium number\")"
   ]
  },
  {
   "cell_type": "markdown",
   "id": "0bf63bb3",
   "metadata": {},
   "source": [
    "## 2. Write a Python program to print all disarium numbers between 1 to 100?"
   ]
  },
  {
   "cell_type": "code",
   "execution_count": 33,
   "id": "a29df725",
   "metadata": {},
   "outputs": [
    {
     "name": "stdout",
     "output_type": "stream",
     "text": [
      "Disarium number between 1 to 100:\n",
      "1\n",
      "2\n",
      "3\n",
      "4\n",
      "5\n",
      "6\n",
      "7\n",
      "8\n",
      "9\n",
      "89\n"
     ]
    }
   ],
   "source": [
    "def disarium(t):\n",
    "    temp=0\n",
    "    for i in range(len(str(t))):\n",
    "        temp+= int(str(t)[i])** (i+1)\n",
    "    if temp==t:\n",
    "        return temp\n",
    "print(\"Disarium number between 1 to 100:\")\n",
    "is_disarium=0\n",
    "for j in range(1,101):\n",
    "    #print(disrium(j))---------This returns none when the number is not disarium so ignoring\n",
    "    is_disarium=disarium(j)\n",
    "    if is_disarium==j: \n",
    "        print(j)\n",
    "    "
   ]
  },
  {
   "cell_type": "markdown",
   "id": "61734ebe",
   "metadata": {},
   "source": [
    "## 3. Write a Python program to check if the given number is Happy Number?"
   ]
  },
  {
   "cell_type": "code",
   "execution_count": null,
   "id": "93c460d9",
   "metadata": {},
   "outputs": [],
   "source": [
    "# a happy number is a number which eventually reaches 1 when replaced by the sum of the square of each digit."
   ]
  },
  {
   "cell_type": "code",
   "execution_count": null,
   "id": "c2829339",
   "metadata": {},
   "outputs": [],
   "source": [
    "#On the other hand, 4 is not a happy number because the sequence starting with 4 eventually reaches 4"
   ]
  },
  {
   "cell_type": "code",
   "execution_count": null,
   "id": "1c568c93",
   "metadata": {},
   "outputs": [],
   "source": [
    "#A number which is not happy is called sad or unhappy."
   ]
  },
  {
   "cell_type": "code",
   "execution_count": 2,
   "id": "819881fb",
   "metadata": {},
   "outputs": [
    {
     "name": "stdout",
     "output_type": "stream",
     "text": [
      "Enter the number:7\n",
      "7 is a happy number\n"
     ]
    }
   ],
   "source": [
    "def sumofdigit(n):\n",
    "    sum=0\n",
    "    remainder=0\n",
    "    while n>0:\n",
    "        remainder=n%10\n",
    "        sum=sum+(remainder**2)\n",
    "        n=n//10\n",
    "    return sum\n",
    "    \n",
    "n= int(input(\"Enter the number:\"))\n",
    "result=n\n",
    "while result!=1 and result!=4:\n",
    "    result=sumofdigit(result)\n",
    "if result == 1:\n",
    "    print(f\"{n} is a happy number\")\n",
    "else:\n",
    "    print(f\"{n} is unhappy number\")"
   ]
  },
  {
   "cell_type": "markdown",
   "id": "9211d073",
   "metadata": {},
   "source": [
    "## 4. Write a Python program to print all happy numbers between 1 and 100?"
   ]
  },
  {
   "cell_type": "code",
   "execution_count": 3,
   "id": "db5790a6",
   "metadata": {},
   "outputs": [
    {
     "name": "stdout",
     "output_type": "stream",
     "text": [
      "1\n",
      "7\n",
      "10\n",
      "13\n",
      "19\n",
      "23\n",
      "28\n",
      "31\n",
      "32\n",
      "44\n",
      "49\n",
      "68\n",
      "70\n",
      "79\n",
      "82\n",
      "86\n",
      "91\n",
      "94\n",
      "97\n",
      "100\n"
     ]
    }
   ],
   "source": [
    "def sumofdigit(n):\n",
    "    sum=0\n",
    "    remainder=0\n",
    "    while n>0:\n",
    "        remainder=n%10\n",
    "        sum=sum+(remainder**2)\n",
    "        n=n//10\n",
    "    return sum\n",
    "    \n",
    "for n in range(1,101):\n",
    "    \n",
    "    result=n\n",
    "    while result!=1 and result!=4:\n",
    "        result=sumofdigit(result)\n",
    "    if result == 1:\n",
    "        print(f\"{n}\")\n",
    "    #else:\n",
    "        #print(f\"{n} is unhappy number\")"
   ]
  },
  {
   "cell_type": "markdown",
   "id": "ba3ad473",
   "metadata": {},
   "source": [
    "## 5. Write a Python program to determine whether the given number is a Harshad Number?"
   ]
  },
  {
   "cell_type": "code",
   "execution_count": null,
   "id": "a0021c5e",
   "metadata": {},
   "outputs": [],
   "source": [
    "# 18=> 1+8=9\n",
    "#18/9=2 \n",
    "#18 is harshad number\n",
    "# A number which is completely divisible by sum of individual digit is harshad number/niven number\n"
   ]
  },
  {
   "cell_type": "code",
   "execution_count": 4,
   "id": "559feb12",
   "metadata": {},
   "outputs": [
    {
     "name": "stdout",
     "output_type": "stream",
     "text": [
      "Enter a number:18\n",
      "The number 18 is a harshad number\n"
     ]
    }
   ],
   "source": [
    "n= int(input(\"Enter a number:\"))\n",
    "x=n\n",
    "sum=0\n",
    "while x>0:\n",
    "    remainder=x%10\n",
    "    sum=sum+ remainder\n",
    "    x=x//10\n",
    "if n%sum == 0:\n",
    "    print(f\"The number {n} is a harshad number\")\n",
    "else:\n",
    "    print(f\"The number {n} is not a harshad number \")"
   ]
  },
  {
   "cell_type": "markdown",
   "id": "ff078bc4",
   "metadata": {},
   "source": [
    "## 6. Write a Python program to print all pronic numbers between 1 and 100?"
   ]
  },
  {
   "cell_type": "code",
   "execution_count": null,
   "id": "132caa9f",
   "metadata": {},
   "outputs": [],
   "source": [
    "# a number is pronic if the number is product of two consecutive number\n",
    "# 6= 2x3---------pronic number\n",
    "#10=5x2-------------not a pronic number"
   ]
  },
  {
   "cell_type": "code",
   "execution_count": 8,
   "id": "b5ca4096",
   "metadata": {},
   "outputs": [
    {
     "name": "stdout",
     "output_type": "stream",
     "text": [
      "2\n",
      "6\n",
      "12\n",
      "20\n",
      "30\n",
      "42\n",
      "56\n",
      "72\n",
      "90\n"
     ]
    }
   ],
   "source": [
    "#n = int(input(\"Enter a number\"))\n",
    "for n in range(1,101):\n",
    "    flag=0\n",
    "    for i in range(1,n+1):\n",
    "        if i*(i+1) == n:\n",
    "            flag=1\n",
    "            break\n",
    "    \n",
    "    if flag==1:\n",
    "        print(f\"{n}\")\n",
    "    #else:\n",
    "        #print(f\"{n} is not a pronic number\")"
   ]
  },
  {
   "cell_type": "code",
   "execution_count": null,
   "id": "13f61dbb",
   "metadata": {},
   "outputs": [],
   "source": []
  }
 ],
 "metadata": {
  "kernelspec": {
   "display_name": "Python 3 (ipykernel)",
   "language": "python",
   "name": "python3"
  },
  "language_info": {
   "codemirror_mode": {
    "name": "ipython",
    "version": 3
   },
   "file_extension": ".py",
   "mimetype": "text/x-python",
   "name": "python",
   "nbconvert_exporter": "python",
   "pygments_lexer": "ipython3",
   "version": "3.9.7"
  }
 },
 "nbformat": 4,
 "nbformat_minor": 5
}
